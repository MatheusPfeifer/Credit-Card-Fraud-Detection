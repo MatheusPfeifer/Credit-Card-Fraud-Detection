{
 "cells": [
  {
   "cell_type": "markdown",
   "id": "8e6bf124",
   "metadata": {},
   "source": [
    "# Previsão de fraude em transações com cartão de crédito"
   ]
  },
  {
   "cell_type": "markdown",
   "id": "9d8b4791",
   "metadata": {},
   "source": [
    "Neste notebook, será abordado o problema fraudes de cartão de crédito. Aqui, focarei mais na parte da análise dos dados e resolução do problema, e no readme do projeto no github publicarei as principais conclusões."
   ]
  },
  {
   "cell_type": "markdown",
   "id": "6df5a12d",
   "metadata": {},
   "source": [
    "O objetivo aqui vai ser: definir se uma transação é fraudulenta ou não, de modo que o cliente do cartão não perca dinheiro.\n",
    "\n",
    "Sobre o conjunto de dados, os dados foram pré-processados usando análise de componentes principais (PCA) e também a maioria das colunas foram deixadas sem nome, por motivos de proteção aos dados dos clientes.\n",
    "\n",
    "O conjunto de dados pode ser encontrado em https://www.kaggle.com/mlg-ulb/creditcardfraud?select=creditcard.csv."
   ]
  },
  {
   "cell_type": "code",
   "execution_count": 1,
   "id": "7024f9e4",
   "metadata": {},
   "outputs": [],
   "source": [
    "# Importando as bibliotecas\n",
    "import pandas as pd\n",
    "import numpy as np\n",
    "import matplotlib.pyplot as plt\n",
    "import seaborn as sns\n",
    "import warnings\n",
    "warnings.filterwarnings('ignore')"
   ]
  },
  {
   "cell_type": "code",
   "execution_count": 2,
   "id": "de757fa0",
   "metadata": {},
   "outputs": [
    {
     "data": {
      "text/html": [
       "<div>\n",
       "<style scoped>\n",
       "    .dataframe tbody tr th:only-of-type {\n",
       "        vertical-align: middle;\n",
       "    }\n",
       "\n",
       "    .dataframe tbody tr th {\n",
       "        vertical-align: top;\n",
       "    }\n",
       "\n",
       "    .dataframe thead th {\n",
       "        text-align: right;\n",
       "    }\n",
       "</style>\n",
       "<table border=\"1\" class=\"dataframe\">\n",
       "  <thead>\n",
       "    <tr style=\"text-align: right;\">\n",
       "      <th></th>\n",
       "      <th>Time</th>\n",
       "      <th>V1</th>\n",
       "      <th>V2</th>\n",
       "      <th>V3</th>\n",
       "      <th>V4</th>\n",
       "      <th>V5</th>\n",
       "      <th>V6</th>\n",
       "      <th>V7</th>\n",
       "      <th>V8</th>\n",
       "      <th>V9</th>\n",
       "      <th>...</th>\n",
       "      <th>V21</th>\n",
       "      <th>V22</th>\n",
       "      <th>V23</th>\n",
       "      <th>V24</th>\n",
       "      <th>V25</th>\n",
       "      <th>V26</th>\n",
       "      <th>V27</th>\n",
       "      <th>V28</th>\n",
       "      <th>Amount</th>\n",
       "      <th>Class</th>\n",
       "    </tr>\n",
       "  </thead>\n",
       "  <tbody>\n",
       "    <tr>\n",
       "      <th>0</th>\n",
       "      <td>0.0</td>\n",
       "      <td>-1.359807</td>\n",
       "      <td>-0.072781</td>\n",
       "      <td>2.536347</td>\n",
       "      <td>1.378155</td>\n",
       "      <td>-0.338321</td>\n",
       "      <td>0.462388</td>\n",
       "      <td>0.239599</td>\n",
       "      <td>0.098698</td>\n",
       "      <td>0.363787</td>\n",
       "      <td>...</td>\n",
       "      <td>-0.018307</td>\n",
       "      <td>0.277838</td>\n",
       "      <td>-0.110474</td>\n",
       "      <td>0.066928</td>\n",
       "      <td>0.128539</td>\n",
       "      <td>-0.189115</td>\n",
       "      <td>0.133558</td>\n",
       "      <td>-0.021053</td>\n",
       "      <td>149.62</td>\n",
       "      <td>0</td>\n",
       "    </tr>\n",
       "    <tr>\n",
       "      <th>1</th>\n",
       "      <td>0.0</td>\n",
       "      <td>1.191857</td>\n",
       "      <td>0.266151</td>\n",
       "      <td>0.166480</td>\n",
       "      <td>0.448154</td>\n",
       "      <td>0.060018</td>\n",
       "      <td>-0.082361</td>\n",
       "      <td>-0.078803</td>\n",
       "      <td>0.085102</td>\n",
       "      <td>-0.255425</td>\n",
       "      <td>...</td>\n",
       "      <td>-0.225775</td>\n",
       "      <td>-0.638672</td>\n",
       "      <td>0.101288</td>\n",
       "      <td>-0.339846</td>\n",
       "      <td>0.167170</td>\n",
       "      <td>0.125895</td>\n",
       "      <td>-0.008983</td>\n",
       "      <td>0.014724</td>\n",
       "      <td>2.69</td>\n",
       "      <td>0</td>\n",
       "    </tr>\n",
       "    <tr>\n",
       "      <th>2</th>\n",
       "      <td>1.0</td>\n",
       "      <td>-1.358354</td>\n",
       "      <td>-1.340163</td>\n",
       "      <td>1.773209</td>\n",
       "      <td>0.379780</td>\n",
       "      <td>-0.503198</td>\n",
       "      <td>1.800499</td>\n",
       "      <td>0.791461</td>\n",
       "      <td>0.247676</td>\n",
       "      <td>-1.514654</td>\n",
       "      <td>...</td>\n",
       "      <td>0.247998</td>\n",
       "      <td>0.771679</td>\n",
       "      <td>0.909412</td>\n",
       "      <td>-0.689281</td>\n",
       "      <td>-0.327642</td>\n",
       "      <td>-0.139097</td>\n",
       "      <td>-0.055353</td>\n",
       "      <td>-0.059752</td>\n",
       "      <td>378.66</td>\n",
       "      <td>0</td>\n",
       "    </tr>\n",
       "    <tr>\n",
       "      <th>3</th>\n",
       "      <td>1.0</td>\n",
       "      <td>-0.966272</td>\n",
       "      <td>-0.185226</td>\n",
       "      <td>1.792993</td>\n",
       "      <td>-0.863291</td>\n",
       "      <td>-0.010309</td>\n",
       "      <td>1.247203</td>\n",
       "      <td>0.237609</td>\n",
       "      <td>0.377436</td>\n",
       "      <td>-1.387024</td>\n",
       "      <td>...</td>\n",
       "      <td>-0.108300</td>\n",
       "      <td>0.005274</td>\n",
       "      <td>-0.190321</td>\n",
       "      <td>-1.175575</td>\n",
       "      <td>0.647376</td>\n",
       "      <td>-0.221929</td>\n",
       "      <td>0.062723</td>\n",
       "      <td>0.061458</td>\n",
       "      <td>123.50</td>\n",
       "      <td>0</td>\n",
       "    </tr>\n",
       "    <tr>\n",
       "      <th>4</th>\n",
       "      <td>2.0</td>\n",
       "      <td>-1.158233</td>\n",
       "      <td>0.877737</td>\n",
       "      <td>1.548718</td>\n",
       "      <td>0.403034</td>\n",
       "      <td>-0.407193</td>\n",
       "      <td>0.095921</td>\n",
       "      <td>0.592941</td>\n",
       "      <td>-0.270533</td>\n",
       "      <td>0.817739</td>\n",
       "      <td>...</td>\n",
       "      <td>-0.009431</td>\n",
       "      <td>0.798278</td>\n",
       "      <td>-0.137458</td>\n",
       "      <td>0.141267</td>\n",
       "      <td>-0.206010</td>\n",
       "      <td>0.502292</td>\n",
       "      <td>0.219422</td>\n",
       "      <td>0.215153</td>\n",
       "      <td>69.99</td>\n",
       "      <td>0</td>\n",
       "    </tr>\n",
       "  </tbody>\n",
       "</table>\n",
       "<p>5 rows × 31 columns</p>\n",
       "</div>"
      ],
      "text/plain": [
       "   Time        V1        V2        V3        V4        V5        V6        V7  \\\n",
       "0   0.0 -1.359807 -0.072781  2.536347  1.378155 -0.338321  0.462388  0.239599   \n",
       "1   0.0  1.191857  0.266151  0.166480  0.448154  0.060018 -0.082361 -0.078803   \n",
       "2   1.0 -1.358354 -1.340163  1.773209  0.379780 -0.503198  1.800499  0.791461   \n",
       "3   1.0 -0.966272 -0.185226  1.792993 -0.863291 -0.010309  1.247203  0.237609   \n",
       "4   2.0 -1.158233  0.877737  1.548718  0.403034 -0.407193  0.095921  0.592941   \n",
       "\n",
       "         V8        V9  ...       V21       V22       V23       V24       V25  \\\n",
       "0  0.098698  0.363787  ... -0.018307  0.277838 -0.110474  0.066928  0.128539   \n",
       "1  0.085102 -0.255425  ... -0.225775 -0.638672  0.101288 -0.339846  0.167170   \n",
       "2  0.247676 -1.514654  ...  0.247998  0.771679  0.909412 -0.689281 -0.327642   \n",
       "3  0.377436 -1.387024  ... -0.108300  0.005274 -0.190321 -1.175575  0.647376   \n",
       "4 -0.270533  0.817739  ... -0.009431  0.798278 -0.137458  0.141267 -0.206010   \n",
       "\n",
       "        V26       V27       V28  Amount  Class  \n",
       "0 -0.189115  0.133558 -0.021053  149.62      0  \n",
       "1  0.125895 -0.008983  0.014724    2.69      0  \n",
       "2 -0.139097 -0.055353 -0.059752  378.66      0  \n",
       "3 -0.221929  0.062723  0.061458  123.50      0  \n",
       "4  0.502292  0.219422  0.215153   69.99      0  \n",
       "\n",
       "[5 rows x 31 columns]"
      ]
     },
     "execution_count": 2,
     "metadata": {},
     "output_type": "execute_result"
    }
   ],
   "source": [
    "# Importando os dados\n",
    "df = pd.read_csv('dados\\creditcard.csv')\n",
    "df.head()"
   ]
  },
  {
   "cell_type": "markdown",
   "id": "8175a6bb",
   "metadata": {},
   "source": [
    "Visualizando o conjunto de dados, vemos que existem apenas 3 variáveis que não foram anonimizadas: tempo, amount e class. Então será feita uma breve análise sobre essas variáveis. Não irei fazer uma análise exploratória das outras variáveis, pois não tenho a informação do que elas significam, então não traria valor para análise de negócio."
   ]
  },
  {
   "cell_type": "markdown",
   "id": "e2e90e09",
   "metadata": {},
   "source": [
    "## Variável class"
   ]
  },
  {
   "cell_type": "markdown",
   "id": "08b5f546",
   "metadata": {},
   "source": [
    "A variável class representa se a transação foi fraudulenta ou não."
   ]
  },
  {
   "cell_type": "code",
   "execution_count": 3,
   "id": "b9d30481",
   "metadata": {},
   "outputs": [
    {
     "data": {
      "text/plain": [
       "0    284315\n",
       "1       492\n",
       "Name: Class, dtype: int64"
      ]
     },
     "execution_count": 3,
     "metadata": {},
     "output_type": "execute_result"
    }
   ],
   "source": [
    "# Contando a variável class\n",
    "df['Class'].value_counts()"
   ]
  },
  {
   "cell_type": "markdown",
   "id": "f56b1e1d",
   "metadata": {},
   "source": [
    "- 0: Transação não fraudulenta\n",
    "- 1: Transação fraudulenta\n",
    "\n",
    "Como pode ser visto pela tabela acima, as transações fradulentas representam muito pouco do total do conjunto de dados, apenas 0,17%. Isso mostra que o conjunto de dados está extremamente desbalanceado, será necessário aplicar alguma técnica para balancear essas classes.\n"
   ]
  },
  {
   "cell_type": "markdown",
   "id": "2ac0f168",
   "metadata": {},
   "source": [
    "## Variavel Time"
   ]
  },
  {
   "cell_type": "markdown",
   "id": "48430f96",
   "metadata": {},
   "source": [
    "A variável Time representa o intervalo em segundos, da transação avaliada para a primeira transação do dataset"
   ]
  },
  {
   "cell_type": "code",
   "execution_count": 4,
   "id": "496f645a",
   "metadata": {},
   "outputs": [
    {
     "data": {
      "text/plain": [
       "<AxesSubplot:xlabel='Class', ylabel='Time'>"
      ]
     },
     "execution_count": 4,
     "metadata": {},
     "output_type": "execute_result"
    },
    {
     "data": {
      "image/png": "[encoded data removed]",
      "text/plain": [
       "<Figure size 432x288 with 1 Axes>"
      ]
     },
     "metadata": {
      "needs_background": "light"
     },
     "output_type": "display_data"
    }
   ],
   "source": [
    "sns.boxplot(x = df['Class'], y = df['Time'])"
   ]
  },
  {
   "cell_type": "markdown",
   "id": "750d7f66",
   "metadata": {},
   "source": [
    "Podemos ver que esta variável apresenta basicamente o mesmo comportamento para as duas classes, mas creio que esta não seja uma variável importante para o treinamento do modelo."
   ]
  },
  {
   "cell_type": "markdown",
   "id": "c2f84b47",
   "metadata": {},
   "source": [
    "## Variável Amount"
   ]
  },
  {
   "cell_type": "markdown",
   "id": "b75ed604",
   "metadata": {},
   "source": [
    "A variável amount representa o valor da transação."
   ]
  },
  {
   "cell_type": "code",
   "execution_count": 5,
   "id": "f466d869",
   "metadata": {},
   "outputs": [
    {
     "data": {
      "text/plain": [
       "([<matplotlib.axis.XTick at 0x1f4f048edf0>,\n",
       "  <matplotlib.axis.XTick at 0x1f4f048edc0>],\n",
       " [Text(0, 0, 'Normal'), Text(1, 0, 'Fraude')])"
      ]
     },
     "execution_count": 5,
     "metadata": {},
     "output_type": "execute_result"
    },
    {
     "data": {
      "image/png": "[encoded data removed]",
      "text/plain": [
       "<Figure size 432x288 with 1 Axes>"
      ]
     },
     "metadata": {
      "needs_background": "light"
     },
     "output_type": "display_data"
    }
   ],
   "source": [
    "# Criando o boxplot da variável amount\n",
    "sns.boxplot(x = df['Class'], y = df['Amount'])\n",
    "\n",
    "# Setando um limite para os valores de transação, devido ao elevado número de outliers.\n",
    "plt.ylim((-5, 500))\n",
    "plt.xticks([0, 1], ['Normal', 'Fraude'])"
   ]
  },
  {
   "cell_type": "markdown",
   "id": "31538bbe",
   "metadata": {},
   "source": [
    "Tive que setar um valor máximo de Y, pois esta variável apresenta muitos outliers. Parece que não há muita distinção dos valores das transações para casos normais ou com fraude."
   ]
  },
  {
   "cell_type": "markdown",
   "id": "e78e871d",
   "metadata": {},
   "source": [
    "## Separando os dados de treino e teste"
   ]
  },
  {
   "cell_type": "markdown",
   "id": "9221d373",
   "metadata": {},
   "source": [
    "Antes de treinar o modelo, precisamos separar os dados de treino e de validacao, para treinar o modelo e depois fazermos as previsões. Vou separar apenas em dados de treino e validação para poder alimentar o modelo em PyCaret."
   ]
  },
  {
   "cell_type": "code",
   "execution_count": 6,
   "id": "a57f8b82",
   "metadata": {},
   "outputs": [],
   "source": [
    "from sklearn.model_selection import train_test_split\n",
    "\n",
    "# Definindo o tamanho do conjunto de dados\n",
    "teste_size = 0.33\n",
    "seed = 7\n",
    "\n",
    "# Dividindo os dados em treino e validcao\n",
    "df_treino, df_validacao = train_test_split(df, test_size = teste_size, random_state = seed)"
   ]
  },
  {
   "cell_type": "code",
   "execution_count": 7,
   "id": "3ee6f687",
   "metadata": {},
   "outputs": [
    {
     "name": "stdout",
     "output_type": "stream",
     "text": [
      "Tamanho dos dados de treino (190820, 31)\n",
      "Tamanho dos dados de teste (93987, 31)\n"
     ]
    }
   ],
   "source": [
    "# Resumo da amostra de dados\n",
    "print(f'Tamanho dos dados de treino {df_treino.shape}')\n",
    "print(f'Tamanho dos dados de teste {df_validacao.shape}')"
   ]
  },
  {
   "cell_type": "code",
   "execution_count": 8,
   "id": "2f6bdeef",
   "metadata": {},
   "outputs": [
    {
     "name": "stdout",
     "output_type": "stream",
     "text": [
      "0.0017084163085630438\n",
      "0.0017662017087469544\n"
     ]
    }
   ],
   "source": [
    "# Verificando se a amostra está bem distibuida\n",
    "print(df_treino['Class'].mean())\n",
    "print(df_validacao['Class'].mean())"
   ]
  },
  {
   "cell_type": "markdown",
   "id": "109bb74c",
   "metadata": {},
   "source": [
    "## Treinamento do modelo usando PyCaret"
   ]
  },
  {
   "cell_type": "markdown",
   "id": "1de2819b",
   "metadata": {},
   "source": [
    "Para o treinamento do modelo, vamos usar a biblioteca pycaret para treinar vários modelos ao mesmo tempo. Definimos o setup como:\n",
    "- Dados de treino para treinar o modelo, e dados de validação para treinar o modelo\n",
    "- Target é a variável Class\n",
    "- Normalize = True vai aplicar a normalização de variáveis numéricas com z-score,.\n",
    "\n",
    "Como o conjunto de dados é muito grande, não vou rodar os 18 modelos que são disponibilizados, escolhi alguns modelos que geralmente são os melhores baseados em problemas de classificação, a partir de experiência anteriores com a biblioteca. Os modelos escolhidos foi o ExtraTree e Light Gradient Boosting.\n",
    "\n",
    "A partir disso, vou pegar o modelo com melhor performance e testar nos dados de validação para analisar a performance do modelo."
   ]
  },
  {
   "cell_type": "code",
   "execution_count": 9,
   "id": "dcf6cf08",
   "metadata": {},
   "outputs": [
    {
     "data": {
      "text/html": [
       "<style  type=\"text/css\" >\n",
       "    #T_ce8a1_ th {\n",
       "          text-align: left;\n",
       "    }#T_ce8a1_row0_col0,#T_ce8a1_row1_col0,#T_ce8a1_row1_col1,#T_ce8a1_row1_col2,#T_ce8a1_row1_col3,#T_ce8a1_row1_col4,#T_ce8a1_row1_col5,#T_ce8a1_row1_col6,#T_ce8a1_row1_col7{\n",
       "            text-align:  left;\n",
       "            text-align:  left;\n",
       "        }#T_ce8a1_row0_col1,#T_ce8a1_row0_col2,#T_ce8a1_row0_col3,#T_ce8a1_row0_col4,#T_ce8a1_row0_col5,#T_ce8a1_row0_col6,#T_ce8a1_row0_col7{\n",
       "            text-align:  left;\n",
       "            text-align:  left;\n",
       "            background-color:  yellow;\n",
       "        }#T_ce8a1_row0_col8{\n",
       "            text-align:  left;\n",
       "            text-align:  left;\n",
       "            background-color:  yellow;\n",
       "            background-color:  lightgrey;\n",
       "        }#T_ce8a1_row1_col8{\n",
       "            text-align:  left;\n",
       "            text-align:  left;\n",
       "            background-color:  lightgrey;\n",
       "        }</style><table id=\"T_ce8a1_\" ><thead>    <tr>        <th class=\"blank level0\" ></th>        <th class=\"col_heading level0 col0\" >Model</th>        <th class=\"col_heading level0 col1\" >Accuracy</th>        <th class=\"col_heading level0 col2\" >AUC</th>        <th class=\"col_heading level0 col3\" >Recall</th>        <th class=\"col_heading level0 col4\" >Prec.</th>        <th class=\"col_heading level0 col5\" >F1</th>        <th class=\"col_heading level0 col6\" >Kappa</th>        <th class=\"col_heading level0 col7\" >MCC</th>        <th class=\"col_heading level0 col8\" >TT (Sec)</th>    </tr></thead><tbody>\n",
       "                <tr>\n",
       "                        <th id=\"T_ce8a1_level0_row0\" class=\"row_heading level0 row0\" >et</th>\n",
       "                        <td id=\"T_ce8a1_row0_col0\" class=\"data row0 col0\" >Extra Trees Classifier</td>\n",
       "                        <td id=\"T_ce8a1_row0_col1\" class=\"data row0 col1\" >0.9995</td>\n",
       "                        <td id=\"T_ce8a1_row0_col2\" class=\"data row0 col2\" >0.9440</td>\n",
       "                        <td id=\"T_ce8a1_row0_col3\" class=\"data row0 col3\" >0.7577</td>\n",
       "                        <td id=\"T_ce8a1_row0_col4\" class=\"data row0 col4\" >0.9484</td>\n",
       "                        <td id=\"T_ce8a1_row0_col5\" class=\"data row0 col5\" >0.8412</td>\n",
       "                        <td id=\"T_ce8a1_row0_col6\" class=\"data row0 col6\" >0.8410</td>\n",
       "                        <td id=\"T_ce8a1_row0_col7\" class=\"data row0 col7\" >0.8469</td>\n",
       "                        <td id=\"T_ce8a1_row0_col8\" class=\"data row0 col8\" >9.9290</td>\n",
       "            </tr>\n",
       "            <tr>\n",
       "                        <th id=\"T_ce8a1_level0_row1\" class=\"row_heading level0 row1\" >gbc</th>\n",
       "                        <td id=\"T_ce8a1_row1_col0\" class=\"data row1 col0\" >Gradient Boosting Classifier</td>\n",
       "                        <td id=\"T_ce8a1_row1_col1\" class=\"data row1 col1\" >0.9989</td>\n",
       "                        <td id=\"T_ce8a1_row1_col2\" class=\"data row1 col2\" >0.6499</td>\n",
       "                        <td id=\"T_ce8a1_row1_col3\" class=\"data row1 col3\" >0.4741</td>\n",
       "                        <td id=\"T_ce8a1_row1_col4\" class=\"data row1 col4\" >0.8019</td>\n",
       "                        <td id=\"T_ce8a1_row1_col5\" class=\"data row1 col5\" >0.5757</td>\n",
       "                        <td id=\"T_ce8a1_row1_col6\" class=\"data row1 col6\" >0.5752</td>\n",
       "                        <td id=\"T_ce8a1_row1_col7\" class=\"data row1 col7\" >0.6045</td>\n",
       "                        <td id=\"T_ce8a1_row1_col8\" class=\"data row1 col8\" >126.2210</td>\n",
       "            </tr>\n",
       "    </tbody></table>"
      ],
      "text/plain": [
       "<pandas.io.formats.style.Styler at 0x1f48d366b20>"
      ]
     },
     "metadata": {},
     "output_type": "display_data"
    }
   ],
   "source": [
    "# Importando o módulo do caret, que trazer os algoritmos de classificação\n",
    "from pycaret.classification import *\n",
    "\n",
    "# Definindo o setup\n",
    "modelagem = setup(data = df_treino,\n",
    "                  target = 'Class',\n",
    "                  test_data = df_validacao,\n",
    "                  normalize = True)\n",
    "\n",
    "# Testando o modelo e organizando por \n",
    "modelo = compare_models(include = ['gbc', 'et'])\n"
   ]
  },
  {
   "cell_type": "markdown",
   "id": "00370291",
   "metadata": {},
   "source": [
    "Com os modelos treinados, foram feitas previsões abaixo para avaliar a performance do melhor modelo."
   ]
  },
  {
   "cell_type": "code",
   "execution_count": 10,
   "id": "930b8b2f",
   "metadata": {},
   "outputs": [
    {
     "data": {
      "text/html": [
       "<style  type=\"text/css\" >\n",
       "</style><table id=\"T_f6481_\" ><thead>    <tr>        <th class=\"blank level0\" ></th>        <th class=\"col_heading level0 col0\" >Model</th>        <th class=\"col_heading level0 col1\" >Accuracy</th>        <th class=\"col_heading level0 col2\" >AUC</th>        <th class=\"col_heading level0 col3\" >Recall</th>        <th class=\"col_heading level0 col4\" >Prec.</th>        <th class=\"col_heading level0 col5\" >F1</th>        <th class=\"col_heading level0 col6\" >Kappa</th>        <th class=\"col_heading level0 col7\" >MCC</th>    </tr></thead><tbody>\n",
       "                <tr>\n",
       "                        <th id=\"T_f6481_level0_row0\" class=\"row_heading level0 row0\" >0</th>\n",
       "                        <td id=\"T_f6481_row0_col0\" class=\"data row0 col0\" >Extra Trees Classifier</td>\n",
       "                        <td id=\"T_f6481_row0_col1\" class=\"data row0 col1\" >0.9996</td>\n",
       "                        <td id=\"T_f6481_row0_col2\" class=\"data row0 col2\" >0.9745</td>\n",
       "                        <td id=\"T_f6481_row0_col3\" class=\"data row0 col3\" >0.8494</td>\n",
       "                        <td id=\"T_f6481_row0_col4\" class=\"data row0 col4\" >0.9338</td>\n",
       "                        <td id=\"T_f6481_row0_col5\" class=\"data row0 col5\" >0.8896</td>\n",
       "                        <td id=\"T_f6481_row0_col6\" class=\"data row0 col6\" >0.8894</td>\n",
       "                        <td id=\"T_f6481_row0_col7\" class=\"data row0 col7\" >0.8904</td>\n",
       "            </tr>\n",
       "    </tbody></table>"
      ],
      "text/plain": [
       "<pandas.io.formats.style.Styler at 0x1f48796d1f0>"
      ]
     },
     "metadata": {},
     "output_type": "display_data"
    }
   ],
   "source": [
    "# Fazendo previsoes no modelo\n",
    "pred = predict_model(modelo)"
   ]
  },
  {
   "cell_type": "code",
   "execution_count": 65,
   "id": "4befc4a4",
   "metadata": {},
   "outputs": [
    {
     "data": {
      "image/png": "[encoded data removed]",
      "text/plain": [
       "<Figure size 576x396 with 1 Axes>"
      ]
     },
     "metadata": {},
     "output_type": "display_data"
    }
   ],
   "source": [
    "# Confusion Matrix ET\n",
    "plot_model(modelo, plot = 'confusion_matrix')"
   ]
  },
  {
   "cell_type": "markdown",
   "id": "229e300b",
   "metadata": {},
   "source": [
    "O modelo apresentou uma ótima performance, com acurácia próxima de 1. Porém, quando avaliamos a previsão para transações fraudulenta, o modelo acerta 'apenas' 83%. Portanto, vemos que o modelo aprendeu bem sobre a classe não-fraudulenta mas não conseguiu replicar para a outra classe.\n",
    "\n",
    "Sendo assim, eu vejo uma oportunidade de melhora na performance na entrega da solução. Para isso, vou testar dois modelos muito utilizados para problemas de classificação."
   ]
  },
  {
   "cell_type": "markdown",
   "id": "1cc7e757",
   "metadata": {},
   "source": [
    "# Criando modelos"
   ]
  },
  {
   "cell_type": "markdown",
   "id": "e6d320a3",
   "metadata": {},
   "source": [
    "Na etapa anterior, desenvolvi um modelo usando a biblioteca PyCaret, que gera modelos automaticamente o que auxilia para executar vários testes. Porém, o resultado em dados de treino usando a métrica f1-score foi de 88% basicamente, porém esse resultado pode ser melhorado. Para isso vou criar 2 modelos, um XGBoost e um RandomForest, que são ótimos modelos para classificação, e normalmente apresentam bons resultados.\n",
    "\n",
    "A vantagem de criar um modelo não-automatizado é que vou ter mais maleabilidade para trabalhar com os dados do que o PyCaret, então vamos analisar."
   ]
  },
  {
   "cell_type": "markdown",
   "id": "87c96091",
   "metadata": {},
   "source": [
    "Etapas:\n",
    "- Remover variável Time do modelo\n",
    "- Normalizar variável amount\n",
    "- Testar Over e UnderSampling\n",
    "- Testar os modelos XGBoost e RF"
   ]
  },
  {
   "cell_type": "markdown",
   "id": "902767e5",
   "metadata": {},
   "source": [
    "A variável time será removida, esta variável não tem muito sentido para o treinamento do modelo pois não traz nenhuma informação relevante para o negócio, é apenas um contador."
   ]
  },
  {
   "cell_type": "code",
   "execution_count": 12,
   "id": "7dae3e29",
   "metadata": {},
   "outputs": [
    {
     "data": {
      "text/html": [
       "<div>\n",
       "<style scoped>\n",
       "    .dataframe tbody tr th:only-of-type {\n",
       "        vertical-align: middle;\n",
       "    }\n",
       "\n",
       "    .dataframe tbody tr th {\n",
       "        vertical-align: top;\n",
       "    }\n",
       "\n",
       "    .dataframe thead th {\n",
       "        text-align: right;\n",
       "    }\n",
       "</style>\n",
       "<table border=\"1\" class=\"dataframe\">\n",
       "  <thead>\n",
       "    <tr style=\"text-align: right;\">\n",
       "      <th></th>\n",
       "      <th>V1</th>\n",
       "      <th>V2</th>\n",
       "      <th>V3</th>\n",
       "      <th>V4</th>\n",
       "      <th>V5</th>\n",
       "      <th>V6</th>\n",
       "      <th>V7</th>\n",
       "      <th>V8</th>\n",
       "      <th>V9</th>\n",
       "      <th>V10</th>\n",
       "      <th>...</th>\n",
       "      <th>V21</th>\n",
       "      <th>V22</th>\n",
       "      <th>V23</th>\n",
       "      <th>V24</th>\n",
       "      <th>V25</th>\n",
       "      <th>V26</th>\n",
       "      <th>V27</th>\n",
       "      <th>V28</th>\n",
       "      <th>Amount</th>\n",
       "      <th>Class</th>\n",
       "    </tr>\n",
       "  </thead>\n",
       "  <tbody>\n",
       "    <tr>\n",
       "      <th>0</th>\n",
       "      <td>-1.359807</td>\n",
       "      <td>-0.072781</td>\n",
       "      <td>2.536347</td>\n",
       "      <td>1.378155</td>\n",
       "      <td>-0.338321</td>\n",
       "      <td>0.462388</td>\n",
       "      <td>0.239599</td>\n",
       "      <td>0.098698</td>\n",
       "      <td>0.363787</td>\n",
       "      <td>0.090794</td>\n",
       "      <td>...</td>\n",
       "      <td>-0.018307</td>\n",
       "      <td>0.277838</td>\n",
       "      <td>-0.110474</td>\n",
       "      <td>0.066928</td>\n",
       "      <td>0.128539</td>\n",
       "      <td>-0.189115</td>\n",
       "      <td>0.133558</td>\n",
       "      <td>-0.021053</td>\n",
       "      <td>149.62</td>\n",
       "      <td>0</td>\n",
       "    </tr>\n",
       "    <tr>\n",
       "      <th>1</th>\n",
       "      <td>1.191857</td>\n",
       "      <td>0.266151</td>\n",
       "      <td>0.166480</td>\n",
       "      <td>0.448154</td>\n",
       "      <td>0.060018</td>\n",
       "      <td>-0.082361</td>\n",
       "      <td>-0.078803</td>\n",
       "      <td>0.085102</td>\n",
       "      <td>-0.255425</td>\n",
       "      <td>-0.166974</td>\n",
       "      <td>...</td>\n",
       "      <td>-0.225775</td>\n",
       "      <td>-0.638672</td>\n",
       "      <td>0.101288</td>\n",
       "      <td>-0.339846</td>\n",
       "      <td>0.167170</td>\n",
       "      <td>0.125895</td>\n",
       "      <td>-0.008983</td>\n",
       "      <td>0.014724</td>\n",
       "      <td>2.69</td>\n",
       "      <td>0</td>\n",
       "    </tr>\n",
       "    <tr>\n",
       "      <th>2</th>\n",
       "      <td>-1.358354</td>\n",
       "      <td>-1.340163</td>\n",
       "      <td>1.773209</td>\n",
       "      <td>0.379780</td>\n",
       "      <td>-0.503198</td>\n",
       "      <td>1.800499</td>\n",
       "      <td>0.791461</td>\n",
       "      <td>0.247676</td>\n",
       "      <td>-1.514654</td>\n",
       "      <td>0.207643</td>\n",
       "      <td>...</td>\n",
       "      <td>0.247998</td>\n",
       "      <td>0.771679</td>\n",
       "      <td>0.909412</td>\n",
       "      <td>-0.689281</td>\n",
       "      <td>-0.327642</td>\n",
       "      <td>-0.139097</td>\n",
       "      <td>-0.055353</td>\n",
       "      <td>-0.059752</td>\n",
       "      <td>378.66</td>\n",
       "      <td>0</td>\n",
       "    </tr>\n",
       "    <tr>\n",
       "      <th>3</th>\n",
       "      <td>-0.966272</td>\n",
       "      <td>-0.185226</td>\n",
       "      <td>1.792993</td>\n",
       "      <td>-0.863291</td>\n",
       "      <td>-0.010309</td>\n",
       "      <td>1.247203</td>\n",
       "      <td>0.237609</td>\n",
       "      <td>0.377436</td>\n",
       "      <td>-1.387024</td>\n",
       "      <td>-0.054952</td>\n",
       "      <td>...</td>\n",
       "      <td>-0.108300</td>\n",
       "      <td>0.005274</td>\n",
       "      <td>-0.190321</td>\n",
       "      <td>-1.175575</td>\n",
       "      <td>0.647376</td>\n",
       "      <td>-0.221929</td>\n",
       "      <td>0.062723</td>\n",
       "      <td>0.061458</td>\n",
       "      <td>123.50</td>\n",
       "      <td>0</td>\n",
       "    </tr>\n",
       "    <tr>\n",
       "      <th>4</th>\n",
       "      <td>-1.158233</td>\n",
       "      <td>0.877737</td>\n",
       "      <td>1.548718</td>\n",
       "      <td>0.403034</td>\n",
       "      <td>-0.407193</td>\n",
       "      <td>0.095921</td>\n",
       "      <td>0.592941</td>\n",
       "      <td>-0.270533</td>\n",
       "      <td>0.817739</td>\n",
       "      <td>0.753074</td>\n",
       "      <td>...</td>\n",
       "      <td>-0.009431</td>\n",
       "      <td>0.798278</td>\n",
       "      <td>-0.137458</td>\n",
       "      <td>0.141267</td>\n",
       "      <td>-0.206010</td>\n",
       "      <td>0.502292</td>\n",
       "      <td>0.219422</td>\n",
       "      <td>0.215153</td>\n",
       "      <td>69.99</td>\n",
       "      <td>0</td>\n",
       "    </tr>\n",
       "  </tbody>\n",
       "</table>\n",
       "<p>5 rows × 30 columns</p>\n",
       "</div>"
      ],
      "text/plain": [
       "         V1        V2        V3        V4        V5        V6        V7  \\\n",
       "0 -1.359807 -0.072781  2.536347  1.378155 -0.338321  0.462388  0.239599   \n",
       "1  1.191857  0.266151  0.166480  0.448154  0.060018 -0.082361 -0.078803   \n",
       "2 -1.358354 -1.340163  1.773209  0.379780 -0.503198  1.800499  0.791461   \n",
       "3 -0.966272 -0.185226  1.792993 -0.863291 -0.010309  1.247203  0.237609   \n",
       "4 -1.158233  0.877737  1.548718  0.403034 -0.407193  0.095921  0.592941   \n",
       "\n",
       "         V8        V9       V10  ...       V21       V22       V23       V24  \\\n",
       "0  0.098698  0.363787  0.090794  ... -0.018307  0.277838 -0.110474  0.066928   \n",
       "1  0.085102 -0.255425 -0.166974  ... -0.225775 -0.638672  0.101288 -0.339846   \n",
       "2  0.247676 -1.514654  0.207643  ...  0.247998  0.771679  0.909412 -0.689281   \n",
       "3  0.377436 -1.387024 -0.054952  ... -0.108300  0.005274 -0.190321 -1.175575   \n",
       "4 -0.270533  0.817739  0.753074  ... -0.009431  0.798278 -0.137458  0.141267   \n",
       "\n",
       "        V25       V26       V27       V28  Amount  Class  \n",
       "0  0.128539 -0.189115  0.133558 -0.021053  149.62      0  \n",
       "1  0.167170  0.125895 -0.008983  0.014724    2.69      0  \n",
       "2 -0.327642 -0.139097 -0.055353 -0.059752  378.66      0  \n",
       "3  0.647376 -0.221929  0.062723  0.061458  123.50      0  \n",
       "4 -0.206010  0.502292  0.219422  0.215153   69.99      0  \n",
       "\n",
       "[5 rows x 30 columns]"
      ]
     },
     "execution_count": 12,
     "metadata": {},
     "output_type": "execute_result"
    }
   ],
   "source": [
    "# Removendo a variável Time\n",
    "df1 = df.iloc[:, 1:31]\n",
    "\n",
    "# Visualizando os dados\n",
    "df1.head()"
   ]
  },
  {
   "cell_type": "markdown",
   "id": "5d6f4c12",
   "metadata": {},
   "source": [
    "A primeira etapa foi normalizar a variável amount. Vai ser utilizado a padronização da variável amount, para manter na mesma escala dos dados e facilitar o treinamento do modelo.\n",
    "\n",
    "A padronização é uma técnica útil para transformar atributos com uma distribuição\n",
    "gaussiana e diferentes médias e desvios padrão para uma distribuição Gaussiana padrão com\n",
    "uma média de 0 e um desvio padrão de 1."
   ]
  },
  {
   "cell_type": "code",
   "execution_count": 13,
   "id": "ce1293bf",
   "metadata": {},
   "outputs": [],
   "source": [
    "# Padronização da variável amout\n",
    "from sklearn.preprocessing import StandardScaler\n",
    "\n",
    "# Criando o padronizador\n",
    "std_scaler = StandardScaler()\n",
    "\n",
    "# Aplicando o padronizador na variável amount\n",
    "df1['Amount'] = std_scaler.fit_transform(df1['Amount'].values.reshape(-1, 1))"
   ]
  },
  {
   "cell_type": "markdown",
   "id": "7d321040",
   "metadata": {},
   "source": [
    "Uma etapa muito importante é separar os dados de treino e teste. Os dados de treino vão ser usados para treinar / ensinar o modelo e os dados de teste para validar a performance do modelo. Foi usado a função train_test_split para separar os dados de teste, usei uma proporção de 67-33 para os dados de treino e teste."
   ]
  },
  {
   "cell_type": "code",
   "execution_count": 31,
   "id": "c2055b18",
   "metadata": {},
   "outputs": [],
   "source": [
    "# Dividindo dados de treino e teste\n",
    "from sklearn.model_selection import train_test_split\n",
    "\n",
    "# Separando as variáveis preditoras e target\n",
    "X = df1.iloc[:, 0:29]\n",
    "y = df1.iloc[:, 29]\n",
    "\n",
    "# Definindo o tamanho do conjunto de dados\n",
    "teste_size = 0.33\n",
    "seed = 7\n",
    "\n",
    "# Dividindo os dados em treino e teste\n",
    "X_treino, X_teste, Y_treino, Y_teste = train_test_split(X, y, test_size = teste_size, random_state = seed, stratify = y)"
   ]
  },
  {
   "cell_type": "markdown",
   "id": "0db9d107",
   "metadata": {},
   "source": [
    "### Balanceando as classes"
   ]
  },
  {
   "cell_type": "markdown",
   "id": "c974d141",
   "metadata": {},
   "source": [
    "Como foi mostrado no começo do trabalho, a variável target está extremamente desbalanceada, então é necessária uma ação. Existem duas abordagens que podem ser tomadas: oversampling e undersampling. O oversampling é aumentar o número de observações nos casos da variável com menos observações, e o undersampling é reduzir o número de observações da classe com mais observações.\n",
    "\n",
    "Abaixo montei as duas abordagens para avaliar qual a melhor abordagem a ser tomada. Usei a biblioteca imblearn que fornece as funções para isso."
   ]
  },
  {
   "cell_type": "code",
   "execution_count": 15,
   "id": "e9d20c4b",
   "metadata": {},
   "outputs": [],
   "source": [
    "# Fazendo UnderSampling dos dados\n",
    "from imblearn.under_sampling import RandomUnderSampler \n",
    "\n",
    "# Criando o balanceador undersampling\n",
    "rus = RandomUnderSampler(random_state=42)\n",
    "\n",
    "# Aplicando o balanceador\n",
    "X_treino_under, Y_treino_under = rus.fit_resample(X_treino, Y_treino)"
   ]
  },
  {
   "cell_type": "code",
   "execution_count": 16,
   "id": "fbeae4a8",
   "metadata": {},
   "outputs": [],
   "source": [
    "# Fazendo OverSampling dos dados\n",
    "from imblearn.over_sampling import SMOTE\n",
    "\n",
    "# Cria o balanceador SMOTE\n",
    "smote_bal = SMOTE()\n",
    "\n",
    "# Aplica o balanceador\n",
    "X_treino_smote, Y_treino_smote = smote_bal.fit_resample(X_treino, Y_treino)"
   ]
  },
  {
   "cell_type": "markdown",
   "id": "e143d7d0",
   "metadata": {},
   "source": [
    "### Random Forest"
   ]
  },
  {
   "cell_type": "markdown",
   "id": "40d7acb3",
   "metadata": {},
   "source": [
    "Uma floresta aleatória é um metaestimador que ajusta vários classificadores de árvore de decisão em várias subamostras do conjunto de dados e usa a média para melhorar a precisão da previsão e controlar o sobreajuste. \n",
    "\n",
    "Segue a documentação abaixo:\n",
    "https://scikit-learn.org/stable/modules/generated/sklearn.ensemble.RandomForestClassifier.html"
   ]
  },
  {
   "cell_type": "markdown",
   "id": "26561943",
   "metadata": {},
   "source": [
    "O treinamento será feito usando os dados com oversampling e undersampling. E será gerado um report dos resultados dos modelos de Random Forest e XGBoost, com algumas métricas de classificação. A principal referência para avaliar a performance do modelo será a matriz de confusão, em que mostra os acertos e erros do modelo."
   ]
  },
  {
   "cell_type": "code",
   "execution_count": 17,
   "id": "a823c13b",
   "metadata": {},
   "outputs": [
    {
     "name": "stdout",
     "output_type": "stream",
     "text": [
      "              precision    recall  f1-score   support\n",
      "\n",
      "           0       1.00      1.00      1.00     93825\n",
      "           1       0.91      0.82      0.86       162\n",
      "\n",
      "    accuracy                           1.00     93987\n",
      "   macro avg       0.96      0.91      0.93     93987\n",
      "weighted avg       1.00      1.00      1.00     93987\n",
      "\n"
     ]
    },
    {
     "data": {
      "image/png": "[encoded data removed]",
      "text/plain": [
       "<Figure size 576x396 with 2 Axes>"
      ]
     },
     "metadata": {},
     "output_type": "display_data"
    },
    {
     "name": "stdout",
     "output_type": "stream",
     "text": [
      "AUC_under: 0.9104\n",
      "\n",
      "              precision    recall  f1-score   support\n",
      "\n",
      "           0       1.00      0.97      0.99     93825\n",
      "           1       0.06      0.93      0.11       162\n",
      "\n",
      "    accuracy                           0.97     93987\n",
      "   macro avg       0.53      0.95      0.55     93987\n",
      "weighted avg       1.00      0.97      0.99     93987\n",
      "\n",
      "AUC_under: 0.9498\n",
      "\n"
     ]
    },
    {
     "data": {
      "image/png": "[encoded data removed]",
      "text/plain": [
       "<Figure size 576x396 with 2 Axes>"
      ]
     },
     "metadata": {},
     "output_type": "display_data"
    }
   ],
   "source": [
    "# Import Library\n",
    "from sklearn.ensemble import RandomForestClassifier\n",
    "from sklearn.metrics import classification_report\n",
    "from sklearn.metrics import confusion_matrix\n",
    "from sklearn.metrics import plot_confusion_matrix\n",
    "from sklearn.metrics import roc_auc_score, roc_curve, accuracy_score, f1_score\n",
    "\n",
    "# Criando o objeto Random Forest smote\n",
    "RF_smote = RandomForestClassifier()\n",
    "\n",
    "# Treinando o modelo Random Forest com os dados transformados com smote\n",
    "RF_smote.fit(X_treino_smote, Y_treino_smote)\n",
    "\n",
    "# Fazendo as previsões e construindo o relatório\n",
    "previsoes_smote = RF_smote.predict(X_teste)\n",
    "report_smote = classification_report(Y_teste, previsoes_smote)\n",
    "\n",
    "# Imprimindo o relatório\n",
    "print(report_smote)\n",
    "\n",
    "# Plotando graficamente a matriz de confusão\n",
    "plot_confusion_matrix(RF_smote, X_teste, Y_teste,\n",
    "                                 cmap=plt.cm.Blues)\n",
    "\n",
    "# Mostrando a matriz de confusão\n",
    "plt.show()\n",
    "\n",
    "# imprimir a área sob da curva\n",
    "print(\"AUC_under: {:.4f}\\n\".format(roc_auc_score(Y_teste, previsoes_smote)))\n",
    "\n",
    "# Criando o objeto Random Forest \n",
    "RF_under = RandomForestClassifier()\n",
    "\n",
    "# Treinando o modelo Random Forest com os dados transformados com undersampling\n",
    "RF_under.fit(X_treino_under, Y_treino_under)\n",
    "\n",
    "# Fazendo as previsões e construindo o relatório\n",
    "previsoes_under = RF_under.predict(X_teste)\n",
    "report_under = classification_report(Y_teste, previsoes_under)\n",
    "\n",
    "# Imprimindo o relatório\n",
    "print(report_under)\n",
    "\n",
    "# imprimir a área sob da curva\n",
    "print(\"AUC_under: {:.4f}\\n\".format(roc_auc_score(Y_teste, previsoes_under)))\n",
    "\n",
    "# Plotando graficamente a matriz de confusão\n",
    "plot_confusion_matrix(RF_under, X_teste, Y_teste,\n",
    "                                 cmap=plt.cm.Blues)\n",
    "plt.show()"
   ]
  },
  {
   "cell_type": "markdown",
   "id": "043b07e8",
   "metadata": {},
   "source": [
    "Como visto acima, o modelo com os dados com oversampling foi praticamente perfeito quando olhamos a métrica F1-Score. Porém, quando olhamos a classe de fraude, o modelo acertou 82%. Enquanto o modelo com undersampling, mesmo com F1-Score menor, acertou 93% das fraudes.\n",
    "\n",
    "Então, nesse momento é necessário o entendimento do negócio, pois tem um trade-off a ser analisado. Precisa discutir se vale a pena usar um modelo que acerta menos no geral, mas tem maior precisão nos casos com fraude, ou se levo em conta a acurácia geral e uso um modelo com mais acerto de não-fraude e menos acerto com fraude.\n",
    "\n",
    "O papel do cientista de dados, é gerar o melhor modelo possível para responder uma pergunta de negócio ou resolver o problema em si, então a partir deste ponto eu levaria estes dois modelo e apresentaria os pós e contra aos tomadores de decisão, que optariam pela escolha que faz mais sentido pro negócio."
   ]
  },
  {
   "cell_type": "markdown",
   "id": "06faadc0",
   "metadata": {},
   "source": [
    "### XGBoost Classifier"
   ]
  },
  {
   "cell_type": "markdown",
   "id": "b35fe44e",
   "metadata": {},
   "source": [
    "O XGBoost é baseado em árvore de decisão e que utiliza uma estrutura de Gradient boosting."
   ]
  },
  {
   "cell_type": "code",
   "execution_count": 32,
   "id": "2f22c72f",
   "metadata": {},
   "outputs": [
    {
     "name": "stdout",
     "output_type": "stream",
     "text": [
      "[12:20:39] WARNING: C:/Users/Administrator/workspace/xgboost-win64_release_1.4.0/src/learner.cc:1095: Starting in XGBoost 1.3.0, the default evaluation metric used with the objective 'binary:logistic' was changed from 'error' to 'logloss'. Explicitly set eval_metric if you'd like to restore the old behavior.\n",
      "              precision    recall  f1-score   support\n",
      "\n",
      "           0       1.00      1.00      1.00     93825\n",
      "           1       0.77      0.86      0.81       162\n",
      "\n",
      "    accuracy                           1.00     93987\n",
      "   macro avg       0.88      0.93      0.91     93987\n",
      "weighted avg       1.00      1.00      1.00     93987\n",
      "\n"
     ]
    },
    {
     "data": {
      "image/png": "[encoded data removed]",
      "text/plain": [
       "<Figure size 576x396 with 2 Axes>"
      ]
     },
     "metadata": {},
     "output_type": "display_data"
    },
    {
     "name": "stdout",
     "output_type": "stream",
     "text": [
      "AUC_under: 0.9288\n",
      "\n",
      "[12:25:04] WARNING: C:/Users/Administrator/workspace/xgboost-win64_release_1.4.0/src/learner.cc:1095: Starting in XGBoost 1.3.0, the default evaluation metric used with the objective 'binary:logistic' was changed from 'error' to 'logloss'. Explicitly set eval_metric if you'd like to restore the old behavior.\n",
      "              precision    recall  f1-score   support\n",
      "\n",
      "           0       1.00      0.97      0.98     93825\n",
      "           1       0.05      0.94      0.09       162\n",
      "\n",
      "    accuracy                           0.97     93987\n",
      "   macro avg       0.52      0.95      0.53     93987\n",
      "weighted avg       1.00      0.97      0.98     93987\n",
      "\n",
      "AUC_under: 0.9520\n",
      "\n"
     ]
    },
    {
     "data": {
      "image/png": "[encoded data removed]",
      "text/plain": [
       "<Figure size 576x396 with 2 Axes>"
      ]
     },
     "metadata": {},
     "output_type": "display_data"
    }
   ],
   "source": [
    "# Import Library\n",
    "from sklearn.metrics import classification_report\n",
    "from sklearn.metrics import confusion_matrix\n",
    "from sklearn.metrics import plot_confusion_matrix\n",
    "from sklearn.metrics import roc_auc_score, roc_curve, accuracy_score, f1_score\n",
    "from xgboost import XGBClassifier\n",
    "import time\n",
    "\n",
    "inicio = time.time()\n",
    "\n",
    "# Criando o modelo\n",
    "xgb = XGBClassifier()\n",
    "\n",
    "# Criando o objeto Random Forest smote\n",
    "xgb_smote = XGBClassifier()\n",
    "\n",
    "xgb_smote.fit(X_treino_smote, Y_treino_smote)\n",
    "\n",
    "# Fazendo as previsões e construindo o relatório\n",
    "previsoes_smote = xgb_smote.predict(X_teste)\n",
    "report_smote = classification_report(Y_teste, previsoes_smote)\n",
    "\n",
    "# Imprimindo o relatório\n",
    "print(report_smote)\n",
    "\n",
    "# Plotando graficamente a matriz de confusão\n",
    "plot_confusion_matrix(xgb_smote, X_teste, Y_teste,\n",
    "                                 cmap=plt.cm.Blues)\n",
    "plt.show()\n",
    "\n",
    "# imprimir a área sob da curva\n",
    "print(\"AUC_under: {:.4f}\\n\".format(roc_auc_score(Y_teste, previsoes_smote)))\n",
    "\n",
    "# Criando o objeto Random Forest \n",
    "xgb_under = XGBClassifier()\n",
    "\n",
    "xgb_under.fit(X_treino_under, Y_treino_under)\n",
    "\n",
    "# Fazendo as previsões e construindo o relatório\n",
    "previsoes_under = xgb_under.predict(X_teste)\n",
    "\n",
    "# Previsoes de probabilidade do modelo\n",
    "previsoes_proba = xgb_under.predict_proba(X_teste) * 100\n",
    "report_under = classification_report(Y_teste, previsoes_under)\n",
    "\n",
    "# Imprimindo o relatório\n",
    "print(report_under)\n",
    "\n",
    "# imprimir a área sob da curva\n",
    "print(\"AUC_under: {:.4f}\\n\".format(roc_auc_score(Y_teste, previsoes_under)))\n",
    "\n",
    "# Plotando graficamente a matriz de confusão\n",
    "plot_confusion_matrix(xgb_under, X_teste, Y_teste,\n",
    "                                 cmap=plt.cm.Blues)\n",
    "plt.show()\n",
    "fim = time.time()\n"
   ]
  },
  {
   "cell_type": "markdown",
   "id": "b4850fa6",
   "metadata": {},
   "source": [
    "Analisando os resutlados do XGboost com os dados undersampling, foi onde teve o maior número de acertos de casos com fraude, onde acertou 94%, 1% a mais do que o modelo de Random Forest. Se compararmos com o modelo do Pycaret, que acertou 83% dos casos com fraude foi uma melhora significativa de 10%.\n",
    "\n",
    "Portanto, vamos definir esse como o melhor modelo, pois obteve a melhor classificação de fraude."
   ]
  },
  {
   "cell_type": "code",
   "execution_count": 33,
   "id": "eaa50f56",
   "metadata": {},
   "outputs": [
    {
     "name": "stdout",
     "output_type": "stream",
     "text": [
      "269.50069999694824\n"
     ]
    }
   ],
   "source": [
    "# Tempo de execução do programa do modelo\n",
    "print(fim - inicio)"
   ]
  },
  {
   "cell_type": "markdown",
   "id": "3252d95b",
   "metadata": {},
   "source": [
    "O modelo levou um pouco mais de 4 minutos para rodar, o que é razoável."
   ]
  },
  {
   "cell_type": "code",
   "execution_count": 34,
   "id": "2639a052",
   "metadata": {},
   "outputs": [
    {
     "data": {
      "text/plain": [
       "<AxesSubplot:title={'center':'Normalized Confusion Matrix'}, xlabel='Predicted label', ylabel='True label'>"
      ]
     },
     "execution_count": 34,
     "metadata": {},
     "output_type": "execute_result"
    },
    {
     "data": {
      "image/png": "[encoded data removed]",
      "text/plain": [
       "<Figure size 576x396 with 2 Axes>"
      ]
     },
     "metadata": {},
     "output_type": "display_data"
    }
   ],
   "source": [
    "import scikitplot as skplt\n",
    "\n",
    "# plotar a matrix de confusão com a proporção de acertos\n",
    "skplt.metrics.plot_confusion_matrix(Y_teste, previsoes_under, normalize=True)"
   ]
  },
  {
   "cell_type": "markdown",
   "id": "ed7618a0",
   "metadata": {},
   "source": [
    "O gráfico acima mostra a porcentagem de acerto do modelo. Podemos ver que para casos em que não ocorreram fraude, o modelo acertou 97% e nos casos com fraude 94%."
   ]
  },
  {
   "cell_type": "markdown",
   "id": "6db4f58a",
   "metadata": {},
   "source": [
    "Com o modelo escolhido, vamos salvar o modelo em disco para poder ser replicado em análises futuras."
   ]
  },
  {
   "cell_type": "code",
   "execution_count": 36,
   "id": "903ea692",
   "metadata": {},
   "outputs": [],
   "source": [
    "# Finalizando o modelo\n",
    "xgb_final = finalize_model(xgb_under)"
   ]
  },
  {
   "cell_type": "code",
   "execution_count": 37,
   "id": "02444aa3",
   "metadata": {},
   "outputs": [
    {
     "name": "stdout",
     "output_type": "stream",
     "text": [
      "Transformation Pipeline and Model Successfully Saved\n"
     ]
    },
    {
     "data": {
      "text/plain": [
       "(Pipeline(memory=None,\n",
       "          steps=[('dtypes',\n",
       "                  DataTypes_Auto_infer(categorical_features=[],\n",
       "                                       display_types=True, features_todrop=[],\n",
       "                                       id_columns=[],\n",
       "                                       ml_usecase='classification',\n",
       "                                       numerical_features=[], target='Class',\n",
       "                                       time_features=[])),\n",
       "                 ('imputer',\n",
       "                  Simple_Imputer(categorical_strategy='not_available',\n",
       "                                 fill_value_categorical=None,\n",
       "                                 fill_value_numerical=None,\n",
       "                                 numeric_strate...\n",
       "                                max_delta_step=None, max_depth=None,\n",
       "                                min_child_weight=None, missing=nan,\n",
       "                                monotone_constraints=None, n_estimators=100,\n",
       "                                n_jobs=None, num_parallel_tree=None,\n",
       "                                objective='binary:logistic', random_state=None,\n",
       "                                reg_alpha=None, reg_lambda=None,\n",
       "                                scale_pos_weight=None, subsample=None,\n",
       "                                tree_method=None, use_label_encoder=True,\n",
       "                                validate_parameters=None, verbosity=None)]],\n",
       "          verbose=False),\n",
       " 'xgb_fraud_card.pkl')"
      ]
     },
     "execution_count": 37,
     "metadata": {},
     "output_type": "execute_result"
    }
   ],
   "source": [
    "# Salvando o mdelo\n",
    "save_model(xgb, 'xgb_fraud_card')"
   ]
  },
  {
   "cell_type": "markdown",
   "id": "319ee8d5",
   "metadata": {},
   "source": [
    "### Entrega do resultado"
   ]
  },
  {
   "cell_type": "markdown",
   "id": "aca7b4ee",
   "metadata": {},
   "source": [
    "Para entregar a solução de negócio para o cliente, vamos salvar as previsões de modelo e também a probabilidade de fraude ou não. Com as probabilidades de fraudeo, o gestor pode priorizar as transações com maior probabilidade de serem fraudulentas e intervir com maior precisão."
   ]
  },
  {
   "cell_type": "code",
   "execution_count": 56,
   "id": "f0503ee6",
   "metadata": {},
   "outputs": [
    {
     "data": {
      "text/html": [
       "<div>\n",
       "<style scoped>\n",
       "    .dataframe tbody tr th:only-of-type {\n",
       "        vertical-align: middle;\n",
       "    }\n",
       "\n",
       "    .dataframe tbody tr th {\n",
       "        vertical-align: top;\n",
       "    }\n",
       "\n",
       "    .dataframe thead th {\n",
       "        text-align: right;\n",
       "    }\n",
       "</style>\n",
       "<table border=\"1\" class=\"dataframe\">\n",
       "  <thead>\n",
       "    <tr style=\"text-align: right;\">\n",
       "      <th></th>\n",
       "      <th>V1</th>\n",
       "      <th>V2</th>\n",
       "      <th>V3</th>\n",
       "      <th>V4</th>\n",
       "      <th>V5</th>\n",
       "      <th>V6</th>\n",
       "      <th>V7</th>\n",
       "      <th>V8</th>\n",
       "      <th>V9</th>\n",
       "      <th>V10</th>\n",
       "      <th>...</th>\n",
       "      <th>V23</th>\n",
       "      <th>V24</th>\n",
       "      <th>V25</th>\n",
       "      <th>V26</th>\n",
       "      <th>V27</th>\n",
       "      <th>V28</th>\n",
       "      <th>Amount</th>\n",
       "      <th>Class</th>\n",
       "      <th>previsoes</th>\n",
       "      <th>prob_fraud</th>\n",
       "    </tr>\n",
       "  </thead>\n",
       "  <tbody>\n",
       "    <tr>\n",
       "      <th>85953</th>\n",
       "      <td>1.245525</td>\n",
       "      <td>-0.015101</td>\n",
       "      <td>0.172603</td>\n",
       "      <td>0.166342</td>\n",
       "      <td>-0.506459</td>\n",
       "      <td>-0.927565</td>\n",
       "      <td>0.047181</td>\n",
       "      <td>-0.113833</td>\n",
       "      <td>0.069392</td>\n",
       "      <td>0.002524</td>\n",
       "      <td>...</td>\n",
       "      <td>-0.063552</td>\n",
       "      <td>0.609737</td>\n",
       "      <td>0.468311</td>\n",
       "      <td>1.062800</td>\n",
       "      <td>-0.101217</td>\n",
       "      <td>-0.016988</td>\n",
       "      <td>-0.345233</td>\n",
       "      <td>0</td>\n",
       "      <td>0</td>\n",
       "      <td>0.224205</td>\n",
       "    </tr>\n",
       "    <tr>\n",
       "      <th>223970</th>\n",
       "      <td>-0.934617</td>\n",
       "      <td>-0.555725</td>\n",
       "      <td>0.711681</td>\n",
       "      <td>-2.694034</td>\n",
       "      <td>-0.177240</td>\n",
       "      <td>-0.199004</td>\n",
       "      <td>0.706445</td>\n",
       "      <td>-0.104712</td>\n",
       "      <td>-0.547377</td>\n",
       "      <td>-0.417462</td>\n",
       "      <td>...</td>\n",
       "      <td>-0.048551</td>\n",
       "      <td>-1.024256</td>\n",
       "      <td>0.336081</td>\n",
       "      <td>-0.282926</td>\n",
       "      <td>0.015484</td>\n",
       "      <td>0.059845</td>\n",
       "      <td>0.246484</td>\n",
       "      <td>0</td>\n",
       "      <td>0</td>\n",
       "      <td>0.232971</td>\n",
       "    </tr>\n",
       "    <tr>\n",
       "      <th>270786</th>\n",
       "      <td>2.068716</td>\n",
       "      <td>0.110282</td>\n",
       "      <td>-1.674298</td>\n",
       "      <td>0.448383</td>\n",
       "      <td>0.300052</td>\n",
       "      <td>-0.958044</td>\n",
       "      <td>0.136712</td>\n",
       "      <td>-0.201081</td>\n",
       "      <td>0.598710</td>\n",
       "      <td>-0.356298</td>\n",
       "      <td>...</td>\n",
       "      <td>0.362076</td>\n",
       "      <td>0.618413</td>\n",
       "      <td>-0.296532</td>\n",
       "      <td>0.167820</td>\n",
       "      <td>-0.067238</td>\n",
       "      <td>-0.031126</td>\n",
       "      <td>-0.349271</td>\n",
       "      <td>0</td>\n",
       "      <td>0</td>\n",
       "      <td>0.058716</td>\n",
       "    </tr>\n",
       "    <tr>\n",
       "      <th>20082</th>\n",
       "      <td>1.069910</td>\n",
       "      <td>0.042439</td>\n",
       "      <td>0.066574</td>\n",
       "      <td>0.463081</td>\n",
       "      <td>-0.126530</td>\n",
       "      <td>-0.569521</td>\n",
       "      <td>0.307067</td>\n",
       "      <td>-0.052327</td>\n",
       "      <td>-0.431864</td>\n",
       "      <td>0.049770</td>\n",
       "      <td>...</td>\n",
       "      <td>0.140737</td>\n",
       "      <td>0.207423</td>\n",
       "      <td>0.125304</td>\n",
       "      <td>0.132862</td>\n",
       "      <td>-0.063693</td>\n",
       "      <td>0.007517</td>\n",
       "      <td>-0.093554</td>\n",
       "      <td>0</td>\n",
       "      <td>0</td>\n",
       "      <td>0.233948</td>\n",
       "    </tr>\n",
       "    <tr>\n",
       "      <th>27885</th>\n",
       "      <td>-0.511955</td>\n",
       "      <td>-0.098190</td>\n",
       "      <td>1.950175</td>\n",
       "      <td>-2.994091</td>\n",
       "      <td>-0.772603</td>\n",
       "      <td>-0.901506</td>\n",
       "      <td>-0.031516</td>\n",
       "      <td>0.144551</td>\n",
       "      <td>2.047939</td>\n",
       "      <td>-2.346655</td>\n",
       "      <td>...</td>\n",
       "      <td>-0.271873</td>\n",
       "      <td>0.434856</td>\n",
       "      <td>0.326248</td>\n",
       "      <td>-0.787249</td>\n",
       "      <td>0.105273</td>\n",
       "      <td>0.020716</td>\n",
       "      <td>-0.349231</td>\n",
       "      <td>0</td>\n",
       "      <td>0</td>\n",
       "      <td>4.776283</td>\n",
       "    </tr>\n",
       "  </tbody>\n",
       "</table>\n",
       "<p>5 rows × 32 columns</p>\n",
       "</div>"
      ],
      "text/plain": [
       "              V1        V2        V3        V4        V5        V6        V7  \\\n",
       "85953   1.245525 -0.015101  0.172603  0.166342 -0.506459 -0.927565  0.047181   \n",
       "223970 -0.934617 -0.555725  0.711681 -2.694034 -0.177240 -0.199004  0.706445   \n",
       "270786  2.068716  0.110282 -1.674298  0.448383  0.300052 -0.958044  0.136712   \n",
       "20082   1.069910  0.042439  0.066574  0.463081 -0.126530 -0.569521  0.307067   \n",
       "27885  -0.511955 -0.098190  1.950175 -2.994091 -0.772603 -0.901506 -0.031516   \n",
       "\n",
       "              V8        V9       V10  ...       V23       V24       V25  \\\n",
       "85953  -0.113833  0.069392  0.002524  ... -0.063552  0.609737  0.468311   \n",
       "223970 -0.104712 -0.547377 -0.417462  ... -0.048551 -1.024256  0.336081   \n",
       "270786 -0.201081  0.598710 -0.356298  ...  0.362076  0.618413 -0.296532   \n",
       "20082  -0.052327 -0.431864  0.049770  ...  0.140737  0.207423  0.125304   \n",
       "27885   0.144551  2.047939 -2.346655  ... -0.271873  0.434856  0.326248   \n",
       "\n",
       "             V26       V27       V28    Amount  Class  previsoes  prob_fraud  \n",
       "85953   1.062800 -0.101217 -0.016988 -0.345233      0          0    0.224205  \n",
       "223970 -0.282926  0.015484  0.059845  0.246484      0          0    0.232971  \n",
       "270786  0.167820 -0.067238 -0.031126 -0.349271      0          0    0.058716  \n",
       "20082   0.132862 -0.063693  0.007517 -0.093554      0          0    0.233948  \n",
       "27885  -0.787249  0.105273  0.020716 -0.349231      0          0    4.776283  \n",
       "\n",
       "[5 rows x 32 columns]"
      ]
     },
     "execution_count": 56,
     "metadata": {},
     "output_type": "execute_result"
    }
   ],
   "source": [
    "# Salvando o resultado das previsões com o modelo\n",
    "resultado = X_teste.copy()\n",
    "resultado['Class'] = Y_teste\n",
    "resultado['previsoes'] = previsoes_under\n",
    "resultado['prob_fraud'] = np.nan\n",
    "resultado['prob_fraud'] = previsoes_proba\n",
    "\n",
    "# Loop para criar a coluna com probabilidades\n",
    "for obs in resultado.index:\n",
    "        resultado['prob_fraud'][obs] = 100 - resultado['prob_fraud'][obs]\n",
    "\n",
    "resultado.head()"
   ]
  },
  {
   "cell_type": "code",
   "execution_count": 61,
   "id": "d3bd435f",
   "metadata": {},
   "outputs": [
    {
     "data": {
      "text/html": [
       "<div>\n",
       "<style scoped>\n",
       "    .dataframe tbody tr th:only-of-type {\n",
       "        vertical-align: middle;\n",
       "    }\n",
       "\n",
       "    .dataframe tbody tr th {\n",
       "        vertical-align: top;\n",
       "    }\n",
       "\n",
       "    .dataframe thead th {\n",
       "        text-align: right;\n",
       "    }\n",
       "</style>\n",
       "<table border=\"1\" class=\"dataframe\">\n",
       "  <thead>\n",
       "    <tr style=\"text-align: right;\">\n",
       "      <th></th>\n",
       "      <th>index</th>\n",
       "      <th>prob_fraud</th>\n",
       "    </tr>\n",
       "  </thead>\n",
       "  <tbody>\n",
       "    <tr>\n",
       "      <th>0</th>\n",
       "      <td>85953</td>\n",
       "      <td>0.224205</td>\n",
       "    </tr>\n",
       "    <tr>\n",
       "      <th>1</th>\n",
       "      <td>223970</td>\n",
       "      <td>0.232971</td>\n",
       "    </tr>\n",
       "    <tr>\n",
       "      <th>2</th>\n",
       "      <td>270786</td>\n",
       "      <td>0.058716</td>\n",
       "    </tr>\n",
       "    <tr>\n",
       "      <th>3</th>\n",
       "      <td>20082</td>\n",
       "      <td>0.233948</td>\n",
       "    </tr>\n",
       "    <tr>\n",
       "      <th>4</th>\n",
       "      <td>27885</td>\n",
       "      <td>4.776283</td>\n",
       "    </tr>\n",
       "  </tbody>\n",
       "</table>\n",
       "</div>"
      ],
      "text/plain": [
       "    index  prob_fraud\n",
       "0   85953    0.224205\n",
       "1  223970    0.232971\n",
       "2  270786    0.058716\n",
       "3   20082    0.233948\n",
       "4   27885    4.776283"
      ]
     },
     "execution_count": 61,
     "metadata": {},
     "output_type": "execute_result"
    }
   ],
   "source": [
    "# Criando o dataframe para entrega do modelo\n",
    "entrega_final = pd.DataFrame(resultado.iloc[:, 31])\n",
    "entrega_final = entrega_final.reset_index()\n",
    "entrega_final.head()"
   ]
  },
  {
   "cell_type": "markdown",
   "id": "a06644e8",
   "metadata": {},
   "source": [
    "A última etapa é gerar o arquivo csv para entrega para o cliente."
   ]
  },
  {
   "cell_type": "code",
   "execution_count": 63,
   "id": "27270b55",
   "metadata": {},
   "outputs": [],
   "source": [
    "# Salvando o resultado do trabalho em um arquivo csv\n",
    "entrega_final.to_csv('entrega_final.csv')"
   ]
  }
 ],
 "metadata": {
  "kernelspec": {
   "display_name": "Python 3",
   "language": "python",
   "name": "python3"
  },
  "language_info": {
   "codemirror_mode": {
    "name": "ipython",
    "version": 3
   },
   "file_extension": ".py",
   "mimetype": "text/x-python",
   "name": "python",
   "nbconvert_exporter": "python",
   "pygments_lexer": "ipython3",
   "version": "3.8.8"
  }
 },
 "nbformat": 4,
 "nbformat_minor": 5
}
